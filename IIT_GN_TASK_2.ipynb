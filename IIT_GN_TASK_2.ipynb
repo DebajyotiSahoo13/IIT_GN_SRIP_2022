{
  "nbformat": 4,
  "nbformat_minor": 0,
  "metadata": {
    "colab": {
      "name": "IIT_GN_TASK_2.ipynb",
      "provenance": []
    },
    "kernelspec": {
      "name": "python3",
      "display_name": "Python 3"
    },
    "language_info": {
      "name": "python"
    },
    "accelerator": "GPU"
  },
  "cells": [
    {
      "cell_type": "markdown",
      "source": [
        "# **TASK 2**\n",
        "Implement from scratch a sampling method to draw samples from a multivariate Normal (MVN) distribution in JAX\n",
        "- set the number of\n",
        "dimensions (random variables of MVN) to 10 for this task\n",
        "- You are only allowed to use `jax.random.uniform`. You are especially not allowed to use\n",
        "`jax.random.normal`\n",
        "- You should randomly create the mean and covariance matrix to fully specify an MVN\n",
        "distribution"
      ],
      "metadata": {
        "id": "mBdsoB1pZpia"
      }
    },
    {
      "cell_type": "markdown",
      "source": [
        "### **Attempting to create random means and covariance**"
      ],
      "metadata": {
        "id": "S6O-qod6-zJ7"
      }
    },
    {
      "cell_type": "code",
      "source": [
        "import jax.numpy as np\n",
        "import jax\n",
        "import random\n",
        "from random import uniform\n",
        "import math\n",
        "from sklearn.datasets import make_spd_matrix\n",
        "\n",
        "k = 10   # how many classes\n",
        "N = 20   # how many samples\n",
        "x_min = -20\n",
        "x_max = 20\n",
        "y_min = -20\n",
        "y_max = 20\n",
        "\n",
        "\n",
        "\n",
        "# w = np.random.random(k)    # generate k random numbers\n",
        "\n",
        "\n",
        "from jax import random\n",
        "key = random.PRNGKey(42)\n",
        "w = random.uniform(key, shape=(10,))\n",
        "w /= w.sum() # divide by their sum\n",
        "# now these sum to 1\n",
        "#print(w)  # actual weight vector\n",
        "\n",
        "number_of_divisions_x = number_of_divisions_y = math.ceil(math.sqrt(k))\n",
        "x_div = (x_max - x_min)/number_of_divisions_x\n",
        "y_div = (y_max - y_min)/number_of_divisions_y\n",
        "\n",
        "# divide a grid\n",
        "# x = x_min to x_max\n",
        "# y = y_min to y_max\n",
        "\n",
        "# now form the grid and put the means\n",
        "\n",
        "points = []  # the list of actual means\n",
        "\n",
        "# now generate means\n",
        "for i in range(number_of_divisions_x):\n",
        "    for j in range(number_of_divisions_y):\n",
        "        if len(points) == k:   # after generating k points, break the loop\n",
        "            break\n",
        "        val = x_min + i * x_div + y_min + j * y_div\n",
        "        if val > 20:\n",
        "          val -= 20\n",
        "        else:\n",
        "          val += 20\n",
        "        point = val  # array (not tuple) is needed for the function\n",
        "        \n",
        "        points.append(point)\n",
        "\n",
        "    if len(points) == k:  # after generating k points, break the loop\n",
        "        break  \n",
        "\n",
        "samples = []  # list containing all the samples\n",
        "actual_sample = [None] * k   # how many samples in each class actually. Stored for later weight correction\n",
        "\n",
        "covs = []    # actual covariances\n",
        "\n",
        "for i in range(k):\n",
        "\n",
        "    number_of_samples = math.ceil(N * w[i])  # number of samples from class i, generate at least one sample\n",
        "    actual_sample[i] = number_of_samples  # for later weight correction\n",
        "\n",
        "    if i == k-1:\n",
        "        number_of_samples = N - sum(actual_sample[:k-1])   # for the last class, take all the remaining samples\n",
        "        actual_sample[i] = number_of_samples\n",
        "\n",
        "    mean = points[i]\n",
        "\n",
        "    # generate covariance matrix\n",
        "\n",
        "    cov = make_spd_matrix(10)   # Generate a random symmetric, positive-definite matrix, whose size is 2x2\n",
        "\n",
        "    covs.append(cov)"
      ],
      "metadata": {
        "id": "zpnqdc7ZZyqB"
      },
      "execution_count": 1,
      "outputs": []
    },
    {
      "cell_type": "code",
      "source": [
        "cov.shape"
      ],
      "metadata": {
        "colab": {
          "base_uri": "https://localhost:8080/"
        },
        "id": "NPF9S_77FmqV",
        "outputId": "ceb8f979-6763-41b8-8628-3f893790a9cb"
      },
      "execution_count": 2,
      "outputs": [
        {
          "output_type": "execute_result",
          "data": {
            "text/plain": [
              "(10, 10)"
            ]
          },
          "metadata": {},
          "execution_count": 2
        }
      ]
    },
    {
      "cell_type": "code",
      "source": [
        "points"
      ],
      "metadata": {
        "colab": {
          "base_uri": "https://localhost:8080/"
        },
        "id": "PMbZecAizEyh",
        "outputId": "7f1fe3c2-42e3-4927-c13f-d9c910127155"
      },
      "execution_count": 3,
      "outputs": [
        {
          "output_type": "execute_result",
          "data": {
            "text/plain": [
              "[-20.0, -10.0, 0.0, 10.0, -10.0, 0.0, 10.0, 20.0, 0.0, 10.0]"
            ]
          },
          "metadata": {},
          "execution_count": 3
        }
      ]
    },
    {
      "cell_type": "code",
      "source": [
        "cov"
      ],
      "metadata": {
        "colab": {
          "base_uri": "https://localhost:8080/"
        },
        "id": "Qwh2_ewdFyw8",
        "outputId": "490aaa7f-5d84-4382-d4a5-99f291a27df2"
      },
      "execution_count": 5,
      "outputs": [
        {
          "output_type": "execute_result",
          "data": {
            "text/plain": [
              "array([[ 0.91403572,  0.27073634, -0.37070834,  0.20190801, -0.49408699,\n",
              "         0.56851996,  0.46955073, -0.22527234,  1.05803919, -0.22501412],\n",
              "       [ 0.27073634,  0.81706591, -0.2600977 ,  0.07777133, -0.25370266,\n",
              "         0.41010781,  0.24963775, -0.23113938,  0.64841425, -0.17429734],\n",
              "       [-0.37070834, -0.2600977 ,  1.14271222, -0.33178492,  0.66371463,\n",
              "        -0.95918116, -0.76241614,  0.51013315, -1.58803968,  0.40677391],\n",
              "       [ 0.20190801,  0.07777133, -0.33178492,  0.97573738, -0.51836549,\n",
              "         0.54883474,  0.57466159, -0.26358343,  0.99273913, -0.30451835],\n",
              "       [-0.49408699, -0.25370266,  0.66371463, -0.51836549,  1.63435328,\n",
              "        -1.28627407, -0.77375221,  0.52707412, -2.06895041,  0.48501229],\n",
              "       [ 0.56851996,  0.41010781, -0.95918116,  0.54883474, -1.28627407,\n",
              "         2.61417108,  1.36848501, -0.85397541,  2.7808604 , -0.58402555],\n",
              "       [ 0.46955073,  0.24963775, -0.76241614,  0.57466159, -0.77375221,\n",
              "         1.36848501,  1.64051378, -0.64518508,  2.18905433, -0.54247446],\n",
              "       [-0.22527234, -0.23113938,  0.51013315, -0.26358343,  0.52707412,\n",
              "        -0.85397541, -0.64518508,  1.1602478 , -1.43739389,  0.25896574],\n",
              "       [ 1.05803919,  0.64841425, -1.58803968,  0.99273913, -2.06895041,\n",
              "         2.7808604 ,  2.18905433, -1.43739389,  5.39853529, -0.85460002],\n",
              "       [-0.22501412, -0.17429734,  0.40677391, -0.30451835,  0.48501229,\n",
              "        -0.58402555, -0.54247446,  0.25896574, -0.85460002,  0.75111464]])"
            ]
          },
          "metadata": {},
          "execution_count": 5
        }
      ]
    },
    {
      "cell_type": "code",
      "source": [
        "import numpy\n",
        "points = numpy.array(points)\n",
        "points = points.reshape(10,1)"
      ],
      "metadata": {
        "id": "FviRJLvTGThX"
      },
      "execution_count": 6,
      "outputs": []
    },
    {
      "cell_type": "markdown",
      "source": [
        "### **Creating a function multivariate_normal_sampler**"
      ],
      "metadata": {
        "id": "WHxbrgD4JHEj"
      }
    },
    {
      "cell_type": "code",
      "source": [
        "#Importing jax.numpy and jax.scipy api\n",
        "import jax.numpy as np\n",
        "import jax.scipy.linalg as spla\n",
        "\n",
        "key = random.PRNGKey(42)\n",
        "def multivariate_normal_sampler(mean, covariance, n_samples=1):\n",
        "  L = spla.cholesky(covariance)\n",
        "\n",
        "#cholesky decomposition can improve numerical stability and we can also use it to draw samples from a multivariate normal\n",
        " \n",
        "  Z = random.uniform(key,shape=(n_samples,covariance.shape[0])) #Generating some white gausian noise\n",
        "  \n",
        "  return Z.dot(L) + mean \n",
        "#returns random sample that are distributed from a multivariate normal distribution with correct mean and caovariance"
      ],
      "metadata": {
        "id": "u3NAWraQzJw5"
      },
      "execution_count": 8,
      "outputs": []
    },
    {
      "cell_type": "code",
      "source": [
        "X = multivariate_normal_sampler(mean, cov, n_samples=1000)"
      ],
      "metadata": {
        "id": "HyWfIPERzKP0"
      },
      "execution_count": 9,
      "outputs": []
    },
    {
      "cell_type": "code",
      "source": [
        "X"
      ],
      "metadata": {
        "colab": {
          "base_uri": "https://localhost:8080/"
        },
        "id": "44nKo925BitO",
        "outputId": "e4207a8b-0e9f-44a9-f790-d83945c3ac9f"
      },
      "execution_count": 10,
      "outputs": [
        {
          "output_type": "execute_result",
          "data": {
            "text/plain": [
              "DeviceArray([[10.381706 , 10.9372225,  9.913212 , ..., 10.503998 ,\n",
              "              11.04511  ,  9.85002  ],\n",
              "             [10.375615 , 10.59613  , 10.599334 , ..., 10.057558 ,\n",
              "              10.056023 , 10.222786 ],\n",
              "             [10.313506 , 10.192428 , 10.029142 , ..., 10.059924 ,\n",
              "              10.745003 , 10.32871  ],\n",
              "             ...,\n",
              "             [10.261748 , 10.769014 , 10.14813  , ...,  9.683733 ,\n",
              "              12.20946  , 10.226092 ],\n",
              "             [10.893305 , 10.442641 , 10.173006 , ..., 10.535437 ,\n",
              "              11.616586 , 10.292549 ],\n",
              "             [10.9359455, 10.476151 , 10.35238  , ..., 10.549779 ,\n",
              "              10.754279 , 10.522897 ]], dtype=float32)"
            ]
          },
          "metadata": {},
          "execution_count": 10
        }
      ]
    },
    {
      "cell_type": "code",
      "source": [
        "X.mean(axis=0)"
      ],
      "metadata": {
        "colab": {
          "base_uri": "https://localhost:8080/"
        },
        "id": "d3UjAabAzMCW",
        "outputId": "1b76f306-f913-4d71-d605-9242bd3bf95f"
      },
      "execution_count": 11,
      "outputs": [
        {
          "output_type": "execute_result",
          "data": {
            "text/plain": [
              "DeviceArray([10.490202, 10.562163, 10.193903, 10.459148, 10.242573,\n",
              "             10.550854, 10.78474 , 10.261264, 11.037973, 10.229966],            dtype=float32)"
            ]
          },
          "metadata": {},
          "execution_count": 11
        }
      ]
    },
    {
      "cell_type": "code",
      "source": [
        "np.cov(X.T)"
      ],
      "metadata": {
        "colab": {
          "base_uri": "https://localhost:8080/"
        },
        "id": "wRuxQ9nzzQNb",
        "outputId": "a78cf88c-003d-4bb8-890d-52b9cd1324a5"
      },
      "execution_count": 12,
      "outputs": [
        {
          "output_type": "execute_result",
          "data": {
            "text/plain": [
              "DeviceArray([[ 0.07697921,  0.0200586 , -0.03137587,  0.01664387,\n",
              "              -0.03977153,  0.04651411,  0.03703811, -0.01427077,\n",
              "               0.08667421, -0.01580602],\n",
              "             [ 0.0200586 ,  0.06650877, -0.02030928,  0.00785543,\n",
              "              -0.0187023 ,  0.03336751,  0.01668165, -0.01564905,\n",
              "               0.05020088, -0.0125584 ],\n",
              "             [-0.03137587, -0.02030928,  0.09128047, -0.02915336,\n",
              "               0.05317736, -0.07689525, -0.0600033 ,  0.03940117,\n",
              "              -0.1265764 ,  0.02962657],\n",
              "             [ 0.01664387,  0.00785543, -0.02915336,  0.08517961,\n",
              "              -0.04976802,  0.05415992,  0.0516171 , -0.02413062,\n",
              "               0.0945849 , -0.02380342],\n",
              "             [-0.03977153, -0.0187023 ,  0.05317736, -0.04976802,\n",
              "               0.14494088, -0.11050644, -0.06604397,  0.04438507,\n",
              "              -0.17813413,  0.03754091],\n",
              "             [ 0.04651411,  0.03336751, -0.07689525,  0.05415992,\n",
              "              -0.11050644,  0.22196814,  0.11483034, -0.07325884,\n",
              "               0.23815094, -0.04246223],\n",
              "             [ 0.03703811,  0.01668165, -0.0600033 ,  0.0516171 ,\n",
              "              -0.06604397,  0.11483034,  0.13628078, -0.05285953,\n",
              "               0.1848348 , -0.04280407],\n",
              "             [-0.01427077, -0.01564905,  0.03940117, -0.02413062,\n",
              "               0.04438507, -0.07325884, -0.05285953,  0.09990431,\n",
              "              -0.12018941,  0.02333513],\n",
              "             [ 0.08667421,  0.05020088, -0.1265764 ,  0.0945849 ,\n",
              "              -0.17813413,  0.23815094,  0.1848348 , -0.12018941,\n",
              "               0.45484674, -0.06604953],\n",
              "             [-0.01580602, -0.0125584 ,  0.02962657, -0.02380342,\n",
              "               0.03754091, -0.04246223, -0.04280407,  0.02333513,\n",
              "              -0.06604953,  0.05848764]], dtype=float32)"
            ]
          },
          "metadata": {},
          "execution_count": 12
        }
      ]
    },
    {
      "cell_type": "code",
      "source": [
        ""
      ],
      "metadata": {
        "id": "5Fexj1HGDVFi"
      },
      "execution_count": 13,
      "outputs": []
    },
    {
      "cell_type": "markdown",
      "source": [
        "## **Using builtin random.multivariate_normal**"
      ],
      "metadata": {
        "id": "pOsavaDTJPVO"
      }
    },
    {
      "cell_type": "code",
      "source": [
        "import jax\n",
        "import jax.numpy as jnp\n",
        "import numpy as np\n",
        "\n",
        "key = random.PRNGKey(0)\n",
        "cov = np.array([[1.2, 0.4], [0.4, 1.0]])\n",
        "mean = np.array([3,-1])\n",
        "x1,x2 = jax.random.multivariate_normal(key, mean, cov, (5000,)).T"
      ],
      "metadata": {
        "id": "c-rkgBWUE356"
      },
      "execution_count": 28,
      "outputs": []
    },
    {
      "cell_type": "code",
      "source": [
        ""
      ],
      "metadata": {
        "id": "2S4rQumvI3mS"
      },
      "execution_count": null,
      "outputs": []
    },
    {
      "cell_type": "markdown",
      "source": [
        "### Usually building the function `multivariate_normal_sampler` is faster than built in  sampling routine for mltivariate normal `random.multivariate_normal`"
      ],
      "metadata": {
        "id": "UFKTzb8qJlTw"
      }
    },
    {
      "cell_type": "code",
      "source": [
        "import numpy as np\n",
        "import scipy.linalg as spla\n",
        "from scipy.spatial.distance import cdist\n",
        "\n",
        "# key = random.PRNGKey(0)\n",
        "def multivariate_normal_sampler(mean, covariance, n_samples=1):\n",
        "  L = spla.cholesky(covariance)\n",
        "  Z = np.random.normal(size=(n_samples,covariance.shape[0]))\n",
        "  return Z.dot(L) + mean\n",
        "\n",
        "X = np.random.normal(size=(500,1))\n",
        "K = np.exp(-cdist(X,X,\"sqeuclidean\")) + 1e-6 + np.eye(X.shape[0])\n",
        "mean = np.zeros((X.shape[0],))"
      ],
      "metadata": {
        "id": "OCmPnH8zKNt2"
      },
      "execution_count": 38,
      "outputs": []
    },
    {
      "cell_type": "code",
      "source": [
        "import time"
      ],
      "metadata": {
        "id": "JzWDiPlQLijU"
      },
      "execution_count": 39,
      "outputs": []
    },
    {
      "cell_type": "code",
      "source": [
        "#USING BUILTIN FUNCTION\n",
        "time.sleep(1.)\n",
        "start_time = time.time()\n",
        "samples = np.random.multivariate_normal(mean, k, size=(10000,))\n",
        "print(\"Time elapsed: {:.4f}\".format(time.time() - start_time))"
      ],
      "metadata": {
        "colab": {
          "base_uri": "https://localhost:8080/"
        },
        "id": "XDCb21iFLqul",
        "outputId": "a2067490-8025-4927-e757-b619285819be"
      },
      "execution_count": 41,
      "outputs": [
        {
          "output_type": "stream",
          "name": "stdout",
          "text": [
            "Time elapsed: 0.5319\n"
          ]
        }
      ]
    },
    {
      "cell_type": "code",
      "source": [
        "#FUNCTION WE MADE\n",
        "time.sleep(1.)\n",
        "start_time = time.time()\n",
        "samples = multivariate_normal_sampler(mean, k, 10000)\n",
        "print(\"Time elapsed: {:.4f}\".format(time.time() - start_time))"
      ],
      "metadata": {
        "colab": {
          "base_uri": "https://localhost:8080/"
        },
        "id": "_awUoiOJLtKi",
        "outputId": "c7c459e0-3da9-4217-d390-816b08a386bc"
      },
      "execution_count": 43,
      "outputs": [
        {
          "output_type": "stream",
          "name": "stdout",
          "text": [
            "Time elapsed: 0.4205\n"
          ]
        }
      ]
    },
    {
      "cell_type": "code",
      "source": [
        ""
      ],
      "metadata": {
        "id": "6KSFyJTIMnj_"
      },
      "execution_count": null,
      "outputs": []
    }
  ]
}