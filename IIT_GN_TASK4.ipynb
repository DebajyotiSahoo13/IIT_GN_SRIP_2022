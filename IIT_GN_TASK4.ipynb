{
  "cells": [
    {
      "cell_type": "markdown",
      "source": [
        "# **TASK 4**\n",
        "- Implement Bayesian Linear Regression from scratch with any appropriate sampling\n",
        "method in BlackJAX.\n",
        "- Create your own 1d linear dataset with added noise.\n",
        "- Plot the learned predictive mean and 2 standard deviations around the mean l"
      ],
      "metadata": {
        "id": "z0ulYqUCY32J"
      }
    },
    {
      "cell_type": "markdown",
      "metadata": {
        "id": "C73YTMD1-aFT"
      },
      "source": [
        "# **Bayesian linear regression (BLR) using BlackJAX** \n",
        "- Bayesian linear regression is the *Bayesian* interpretation of linear regression.  \n",
        "- It provides a formal and consistent way to reason in the presence of uncertainty. \n",
        "- Bayesian methods have been around for a long time and are widely-used in many areas of science (e.g. astronomy). \n"
      ]
    },
    {
      "cell_type": "markdown",
      "metadata": {
        "id": "hFbtCesq-aFh"
      },
      "source": [
        "- Bayesian linear regression estimates *distributions* over the parameters and predictions. This allows us to model the uncertainty in our predictions.\n",
        "\n",
        "To perform Bayesian linear regression we follow three steps:\n",
        "1. We set up a **probabilistic model** that describes our assumptions how the data and parameters are generated\n",
        "2. We perform inference for the parameters $\\boldsymbol{\\theta}$, that is, we compute the posterior probability distribution over the parameters\n",
        "3. With this posterior we can perform inference for new, unseen inputs $y_*$. In this step we don't compute point estimates of the outputs. Instead, we compute the parameters of the posterior distribution over the outputs."
      ]
    },
    {
      "cell_type": "markdown",
      "source": [
        "### **BlackJAX** is an MCMC sampling library based on JAX. \n",
        "- BlackJAX provides well-tested and ready to use sampling algorithms. \n",
        "- It is also explicitly designed to be modular: it is easy for advanced users to mix-and-match different metrics, integrators, trajectory integrations, etc."
      ],
      "metadata": {
        "id": "JIpyknSmTcvk"
      }
    },
    {
      "cell_type": "markdown",
      "metadata": {
        "id": "DAB710RR-aFi"
      },
      "source": [
        "## **1: Probabilistic model  <a class=\"anchor\" id=\"prob-model\"></a>**\n",
        "\n",
        "- We set up a probabilistic model that describes our assumptions how the data and parameters are generated. \n",
        "- For this, we place a prior $p(\\boldsymbol{\\theta})$ over our parameters which encodes what parameter values are plausible (before we have seen any data). \n",
        "\n",
        "\n",
        "- To keep things simple we will assume a Gaussian prior over the parameters: $p(\\boldsymbol{\\theta}) = \\mathcal{N}(\\boldsymbol{m}_0, \\boldsymbol{S}_0)$. \n",
        "\n",
        "- **Note:** When considering the set of all targets $\\mathcal{Y} := \\{y_1, ..., y_n \\}$, the likelihood function becomes a multivariate Gaussian distribution: $p(\\mathcal{Y} \\mid \\mathcal{X}, \\boldsymbol{\\theta})=\\mathcal{N}\\left(\\boldsymbol{y} \\mid \\boldsymbol{\\Phi} \\boldsymbol{\\theta}, \\sigma^{2} \\boldsymbol{I}\\right)$\n",
        "\n",
        "\n",
        "\n",
        "We will start our `BayesianLinearRegression` class with the knowledge we have so far - our probabilistic model. As mentioned in the beginning we assume that the variance $\\sigma^2$ of the noise $\\epsilon$ is known. "
      ]
    },
    {
      "cell_type": "code",
      "source": [
        "import jax\n",
        "import jax.scipy.stats as stats\n",
        "import matplotlib.pyplot as plt\n",
        "\n",
        "import blackjax"
      ],
      "metadata": {
        "id": "CryerWDDaWW_"
      },
      "execution_count": null,
      "outputs": []
    },
    {
      "cell_type": "code",
      "execution_count": null,
      "metadata": {
        "id": "dX3uXVKH-aFk"
      },
      "outputs": [],
      "source": [
        "from jax.scipy.stats import multivariate_normal\n",
        "import jax.numpy as np\n",
        "\n",
        "class BayesianLinearRegression:\n",
        "    \"\"\" Bayesian linear regression\n",
        "    \n",
        "    Args:\n",
        "        prior_mean: Mean values of the prior distribution (m_0)\n",
        "        prior_cov: Covariance matrix of the prior distribution (S_0)\n",
        "        noise_var: Variance of the noise distribution\n",
        "    \"\"\"\n",
        "    \n",
        "    def __init__(self, prior_mean: np.ndarray, prior_cov: np.ndarray, noise_var: float):\n",
        "        self.prior_mean = prior_mean[:, np.newaxis] # column vector of shape (1, d)\n",
        "        self.prior_cov = prior_cov # matrix of shape (d, d)\n",
        "        # We initalize the prior distribution over the parameters using the given mean and covariance matrix\n",
        "        # In the formulas above this corresponds to m_0 (prior_mean) and S_0 (prior_cov)\n",
        "        self.prior = multivariate_normal(prior_mean, prior_cov)\n",
        "        \n",
        "        # We also know the variance of the noise\n",
        "        self.noise_var = noise_var # single float value\n",
        "        self.noise_precision = 1 / noise_var\n",
        "        \n",
        "        # Before performing any inference the parameter posterior equals the parameter prior\n",
        "        self.param_posterior = self.prior\n",
        "        # Accordingly, the posterior mean and covariance equal the prior mean and variance\n",
        "        self.post_mean = self.prior_mean # corresponds to m_N in formulas\n",
        "        self.post_cov = self.prior_cov # corresponds to S_N in formulas\n",
        "        \n",
        "        \n",
        "# Let's make sure that we can initialize our model\n",
        "prior_mean = np.array([0, 0])\n",
        "prior_cov = np.array([[0.5, 0], [0, 0.5]])\n",
        "noise_var = 0.2\n",
        "blr = BayesianLinearRegression(prior_mean, prior_cov, noise_var)"
      ]
    },
    {
      "cell_type": "markdown",
      "metadata": {
        "id": "vrIGYiTx-aFn"
      },
      "source": [
        "## **2.Generating a dataset  <a class=\"anchor\" id=\"dataset\"></a>**\n",
        "- we will work with one-dimensional data and simple linear regression (that is, no non-linear transformation of the inputs). \n",
        "- Our data generating function will be of the form\n",
        "$$ y = \\theta_0 + \\theta_1 \\, x + \\epsilon $$\n",
        "\n",
        "Note that we added a parameter $\\theta_0$ which corresponds to the intercept of the linear function. Until know we assumed $\\theta_0 = 0$. As mentioned earlier, $\\theta_1$ represents the slope of the linear function."
      ]
    },
    {
      "cell_type": "code",
      "execution_count": null,
      "metadata": {
        "id": "PR05p-Mv-aFn"
      },
      "outputs": [],
      "source": [
        "import matplotlib.pyplot as plt\n",
        "%matplotlib inline\n",
        "\n",
        "def compute_function_labels(slope: float, intercept: float, noise_std_dev: float, data: np.ndarray) -> np.ndarray:\n",
        "    \"\"\"\n",
        "    Compute target values given function parameters and data.\n",
        "    \n",
        "    Args:\n",
        "        slope: slope of the function (theta_1)\n",
        "        intercept: intercept of the function (theta_0)\n",
        "        data: input feature values (x)\n",
        "        noise_std_dev: standard deviation of noise distribution (sigma)\n",
        "        \n",
        "    Returns:\n",
        "        target values, either true or corrupted with noise\n",
        "    \"\"\"\n",
        "    n_samples = len(data)\n",
        "    if noise_std_dev == 0: # Real function\n",
        "        return slope * data + intercept\n",
        "    else: # Noise corrupted\n",
        "        return slope * data + intercept + np.random.normal(0, noise_std_dev, n_samples)"
      ]
    },
    {
      "cell_type": "code",
      "execution_count": null,
      "metadata": {
        "id": "NnwyVeGR-aFo"
      },
      "outputs": [],
      "source": [
        "# Set random seed to ensure reproducibility\n",
        "seed = 42\n",
        "np.random.seed(seed)\n",
        "\n",
        "# Generate true values and noise corrupted targets\n",
        "n_datapoints = 1000\n",
        "intercept = -0.7\n",
        "slope = 0.9\n",
        "noise_std_dev = 0.5\n",
        "noise_var = noise_std_dev**2\n",
        "lower_bound = -1.5\n",
        "upper_bound = 1.5\n",
        "\n",
        "# Generate dataset\n",
        "features = np.random.uniform(lower_bound, upper_bound, n_datapoints)\n",
        "labels = compute_function_labels(slope, intercept, 0., features)\n",
        "noise_corrupted_labels = compute_function_labels(slope, intercept, noise_std_dev, features)"
      ]
    },
    {
      "cell_type": "code",
      "execution_count": null,
      "metadata": {
        "id": "LvYizOj9-aFp",
        "outputId": "99552820-159f-49d4-ce74-f30395743ecd"
      },
      "outputs": [
        {
          "data": {
            "image/png": "[encoded data removed]",
            "text/plain": [
              "<Figure size 720x504 with 1 Axes>"
            ]
          },
          "metadata": {
            "needs_background": "light"
          },
          "output_type": "display_data"
        }
      ],
      "source": [
        "# Plot the dataset\n",
        "plt.figure(figsize=(10,7))\n",
        "plt.plot(features, labels, color='r', label=\"True values\")\n",
        "plt.scatter(features, noise_corrupted_labels, label=\"Noise corrupted values\")\n",
        "plt.xlabel(\"Features\")\n",
        "plt.ylabel(\"Labels\")\n",
        "plt.title(\"Real function along with noisy targets\")\n",
        "plt.legend();"
      ]
    },
    {
      "cell_type": "markdown",
      "metadata": {
        "id": "klX5kriN-aFr"
      },
      "source": [
        "## **3.Posterior over the parameters  <a class=\"anchor\" id=\"param-posterior\"></a>**\n",
        "\n",
        "Coming back to our `BayesLinearRegression` class we need to add a method which allows us to update the posterior distribution given a dataset."
      ]
    },
    {
      "cell_type": "code",
      "execution_count": null,
      "metadata": {
        "id": "VzW6zVo9-aFs"
      },
      "outputs": [],
      "source": [
        "from scipy.stats import multivariate_normal\n",
        "from scipy.stats import norm as univariate_normal\n",
        "import numpy as np\n",
        "\n",
        "class BayesianLinearRegression:\n",
        "    \"\"\" Bayesian linear regression\n",
        "    \n",
        "    Args:\n",
        "        prior_mean: Mean values of the prior distribution (m_0)\n",
        "        prior_cov: Covariance matrix of the prior distribution (S_0)\n",
        "        noise_var: Variance of the noise distribution\n",
        "    \"\"\"\n",
        "    \n",
        "    def __init__(self, prior_mean: np.ndarray, prior_cov: np.ndarray, noise_var: float):\n",
        "        self.prior_mean = prior_mean[:, np.newaxis] # column vector of shape (1, d)\n",
        "        self.prior_cov = prior_cov # matrix of shape (d, d)\n",
        "        # We initalize the prior distribution over the parameters using the given mean and covariance matrix\n",
        "        # In the formulas above this corresponds to m_0 (prior_mean) and S_0 (prior_cov)\n",
        "        self.prior = multivariate_normal(prior_mean, prior_cov)\n",
        "        \n",
        "        # We also know the variance of the noise\n",
        "        self.noise_var = noise_var # single float value\n",
        "        self.noise_precision = 1 / noise_var\n",
        "        \n",
        "        # Before performing any inference the parameter posterior equals the parameter prior\n",
        "        self.param_posterior = self.prior\n",
        "        # Accordingly, the posterior mean and covariance equal the prior mean and variance\n",
        "        self.post_mean = self.prior_mean # corresponds to m_N in formulas\n",
        "        self.post_cov = self.prior_cov # corresponds to S_N in formulas\n",
        "        \n",
        "    def update_posterior(self, features: np.ndarray, targets: np.ndarray):\n",
        "        \"\"\"\n",
        "        Update the posterior distribution given new features and targets\n",
        "        \n",
        "        Args:\n",
        "            features: numpy array of features\n",
        "            targets: numpy array of targets\n",
        "        \"\"\"\n",
        "        # Reshape targets to allow correct matrix multiplication\n",
        "        # Input shape is (N,) but we need (N, 1)\n",
        "        targets = targets[:, np.newaxis]\n",
        "        \n",
        "        # Compute the design matrix, shape (N, 2)\n",
        "        design_matrix = self.compute_design_matrix(features)\n",
        "\n",
        "        # Update the covariance matrix, shape (2, 2)\n",
        "        design_matrix_dot_product = design_matrix.T.dot(design_matrix)\n",
        "        inv_prior_cov = np.linalg.inv(self.prior_cov)\n",
        "        self.post_cov = np.linalg.inv(inv_prior_cov +  self.noise_precision * design_matrix_dot_product)\n",
        "        \n",
        "        # Update the mean, shape (2, 1)\n",
        "        self.post_mean = self.post_cov.dot( \n",
        "                         inv_prior_cov.dot(self.prior_mean) + \n",
        "                         self.noise_precision * design_matrix.T.dot(targets))\n",
        "\n",
        "        \n",
        "        # Update the posterior distribution\n",
        "        self.param_posterior = multivariate_normal(self.post_mean.flatten(), self.post_cov)\n",
        "                \n",
        "    def compute_design_matrix(self, features: np.ndarray) -> np.ndarray:\n",
        "        \"\"\"\n",
        "        Compute the design matrix. To keep things simple we use simple linear\n",
        "        regression and add the value phi_0 = 1 to our input data.\n",
        "        \n",
        "        Args:\n",
        "            features: numpy array of features\n",
        "        Returns:\n",
        "            design_matrix: numpy array of transformed features\n",
        "            \n",
        "        >>> compute_design_matrix(np.array([2, 3]))\n",
        "        np.array([[1., 2.], [1., 3.])\n",
        "        \"\"\"\n",
        "        n_samples = len(features)\n",
        "        phi_0 = np.ones(n_samples)\n",
        "        design_matrix = np.stack((phi_0, features), axis=1)\n",
        "        return design_matrix\n",
        "    \n",
        " \n",
        "    def predict(self, features: np.ndarray):\n",
        "        \"\"\"\n",
        "        Compute predictive posterior given new datapoint\n",
        "        \n",
        "        Args:\n",
        "            features: 1d numpy array of features\n",
        "        Returns:\n",
        "            pred_posterior: predictive posterior distribution\n",
        "        \"\"\"\n",
        "        design_matrix = self.compute_design_matrix(features)\n",
        "        \n",
        "        pred_mean = design_matrix.dot(self.post_mean)\n",
        "        pred_cov = design_matrix.dot(self.post_cov.dot(design_matrix.T)) + self.noise_var\n",
        "        \n",
        "        pred_posterior = univariate_normal(loc=pred_mean.flatten(), scale=pred_cov**0.5)\n",
        "        return pred_posterior"
      ]
    },
    {
      "cell_type": "markdown",
      "metadata": {
        "id": "TWnHoSzL-aFt"
      },
      "source": [
        "##4. **Visualizing the parameter posterior  <a class=\"anchor\" id=\"param-posterior-visualization\"></a>**\n",
        "\n",
        "- As we can see, the density is highest in the yellow regions decreasing when moving further out into the green and blue parts. \n",
        "- This should give you a better understanding of contour plots.\n",
        "\n",
        "- To analyze our Bayesian linear regression class we will start by initializing a new model. \n",
        "- We can visualize its prior distribution over the parameters *before* the model has seen any real data."
      ]
    },
    {
      "cell_type": "code",
      "execution_count": null,
      "metadata": {
        "id": "VeHQeowq-aFt",
        "outputId": "55da50f2-c485-4cd9-eb5a-0affa798ae0a"
      },
      "outputs": [
        {
          "data": {
            "image/png": "[encoded data removed]",
            "text/plain": [
              "<Figure size 432x288 with 1 Axes>"
            ]
          },
          "metadata": {
            "needs_background": "light"
          },
          "output_type": "display_data"
        }
      ],
      "source": [
        "# Initialize BLR model\n",
        "prior_mean = np.array([0, 0])\n",
        "prior_cov = 1/2 * np.identity(2)\n",
        "blr = BayesianLinearRegression(prior_mean, prior_cov, noise_var)\n",
        "\n",
        "def plot_param_posterior(lower_bound, upper_bound, blr, title):\n",
        "    fig = plt.figure()\n",
        "    mesh_features, mesh_labels = np.mgrid[lower_bound:upper_bound:.01, lower_bound:upper_bound:.01]\n",
        "    pos = np.dstack((mesh_features, mesh_labels))\n",
        "    plt.contourf(mesh_features, mesh_labels, blr.param_posterior.pdf(pos), levels=15)\n",
        "    plt.scatter(intercept, slope, color='red', label=\"True parameter values\")\n",
        "    plt.title(title)\n",
        "    plt.xlabel(\"Intercept\")\n",
        "    plt.ylabel(\"Slope\")\n",
        "    plt.legend();\n",
        "    \n",
        "# Visualize parameter prior distribution\n",
        "plot_param_posterior(lower_bound, upper_bound, blr, title=\"Prior parameter distribution\")"
      ]
    },
    {
      "cell_type": "markdown",
      "metadata": {
        "id": "42uQZtia-aFv"
      },
      "source": [
        "### **5.Posterior predictive distribution  <a class=\"anchor\" id=\"predictive-posterior\"></a>**\n",
        " \n",
        "Let's add a `predict` method to our `BayesianLinearRegression` class which computes the predictive posterior for a new input (you will find the method in the class definition above):"
      ]
    },
    {
      "cell_type": "code",
      "execution_count": null,
      "metadata": {
        "id": "Btn7mmXM-aFw"
      },
      "outputs": [],
      "source": [
        "def predict(self, features: np.ndarray):\n",
        "    \"\"\"\n",
        "    Compute predictive posterior given new datapoint\n",
        "\n",
        "    Args:\n",
        "        features: 1d numpy array of features\n",
        "    Returns:\n",
        "        pred_posterior: predictive posterior distribution\n",
        "    \"\"\"\n",
        "    design_matrix = self.compute_design_matrix(features)\n",
        "\n",
        "    pred_mean = design_matrix.dot(self.post_mean)\n",
        "    pred_cov = design_matrix.dot(self.post_cov.dot(design_matrix.T)) + self.noise_var\n",
        "\n",
        "    pred_posterior = univariate_normal(pred_mean.flatten(), pred_cov)\n",
        "    return pred_posterior"
      ]
    }
  ],
  "metadata": {
    "kernelspec": {
      "display_name": "Python 3",
      "language": "python",
      "name": "python3"
    },
    "language_info": {
      "codemirror_mode": {
        "name": "ipython",
        "version": 3
      },
      "file_extension": ".py",
      "mimetype": "text/x-python",
      "name": "python",
      "nbconvert_exporter": "python",
      "pygments_lexer": "ipython3",
      "version": "3.8.3"
    },
    "colab": {
      "name": "IIT_GN_TASK4.ipynb",
      "provenance": []
    }
  },
  "nbformat": 4,
  "nbformat_minor": 0
}